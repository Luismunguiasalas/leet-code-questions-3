{
 "metadata": {
  "language_info": {
   "codemirror_mode": {
    "name": "ipython",
    "version": 3
   },
   "file_extension": ".py",
   "mimetype": "text/x-python",
   "name": "python",
   "nbconvert_exporter": "python",
   "pygments_lexer": "ipython3",
   "version": "3.8.5-final"
  },
  "orig_nbformat": 2,
  "kernelspec": {
   "name": "python3",
   "display_name": "Python 3",
   "language": "python"
  }
 },
 "nbformat": 4,
 "nbformat_minor": 2,
 "cells": [
  {
   "cell_type": "code",
   "execution_count": null,
   "metadata": {},
   "outputs": [],
   "source": [
    "Input: address = \"1.1.1.1\"\n",
    "Output: \"1[.]1[.]1[.]1\""
   ]
  },
  {
   "cell_type": "code",
   "execution_count": 1,
   "metadata": {},
   "outputs": [
    {
     "output_type": "stream",
     "name": "stdout",
     "text": [
      "1[.]1[.]1[.]1\n"
     ]
    }
   ],
   "source": [
    "import re\n",
    "#1108 defanging an ip address\n",
    "\n",
    "# Given a valid (IPv4) IP address, return a defanged version of that IP address.\n",
    "# A defanged IP address replaces every period \".\" with \"[.]\".\n",
    "\n",
    "# Example 1:\n",
    "# Input: address = \"1.1.1.1\"\n",
    "# Output: \"1[.]1[.]1[.]1\"\n",
    "# Example 2:\n",
    "# Input: address = \"255.100.50.0\"\n",
    "# Output: \"255[.]100[.]50[.]0\"\n",
    "# address = \"1.1.1.1\"\n",
    "class Solution:\n",
    "    def defangAddress(a):\n",
    "        return re.sub('\\.','[.]',a)"
   ]
  }
 ]
}
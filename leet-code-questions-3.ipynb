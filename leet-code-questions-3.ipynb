{
 "metadata": {
  "language_info": {
   "codemirror_mode": {
    "name": "ipython",
    "version": 3
   },
   "file_extension": ".py",
   "mimetype": "text/x-python",
   "name": "python",
   "nbconvert_exporter": "python",
   "pygments_lexer": "ipython3",
   "version": "3.8.5-final"
  },
  "orig_nbformat": 2,
  "kernelspec": {
   "name": "python3",
   "display_name": "Python 3",
   "language": "python"
  }
 },
 "nbformat": 4,
 "nbformat_minor": 2,
 "cells": [
  {
   "cell_type": "code",
   "execution_count": 1,
   "metadata": {},
   "outputs": [
    {
     "output_type": "stream",
     "name": "stdout",
     "text": [
      "1[.]1[.]1[.]1\n"
     ]
    }
   ],
   "source": [
    "import re\n",
    "#1108 defanging an ip address\n",
    "\n",
    "# Given a valid (IPv4) IP address, return a defanged version of that IP address.\n",
    "# A defanged IP address replaces every period \".\" with \"[.]\".\n",
    "\n",
    "# Example 1:\n",
    "# Input: address = \"1.1.1.1\"\n",
    "# Output: \"1[.]1[.]1[.]1\"\n",
    "# Example 2:\n",
    "# Input: address = \"255.100.50.0\"\n",
    "# Output: \"255[.]100[.]50[.]0\"\n",
    "# address = \"1.1.1.1\"\n",
    "class Solution:\n",
    "    def defangAddress(a):\n",
    "        return re.sub('\\.','[.]',a)\n",
    "\n",
    "\n",
    "class Solution:\n",
    "    def defangAddress2(a):\n",
    "        r = \"\"\n",
    "        for i in a:\n",
    "            if i == \".\":\n",
    "                r+= \"[.]\"\n",
    "            else:\n",
    "                r+=i\n",
    "        return r"
   ]
  },
  {
   "cell_type": "code",
   "execution_count": null,
   "metadata": {},
   "outputs": [],
   "source": [
    "#1592 rearrange spaces between words\n",
    "\n",
    "You are given a string text of words that are placed among some number of spaces. Each word consists of one or more lowercase English letters and are separated by at least one space. It's guaranteed that text contains at least one word.\n",
    "\n",
    "Rearrange the spaces so that there is an equal number of spaces between every pair of adjacent words and that number is maximized. If you cannot redistribute all the spaces equally, place the extra spaces at the end, meaning the returned string should be the same length as text.\n",
    "\n",
    "Return the string after rearranging the spaces.\n",
    "Example 1:\n",
    "\n",
    "Input: text = \"  this   is  a sentence \"\n",
    "Output: \"this   is   a   sentence\"\n",
    "Explanation: There are a total of 9 spaces and 4 words. We can evenly divide the 9 spaces between the words: 9 / (4-1) = 3 spaces.\n",
    "Example 2:\n",
    "\n",
    "Input: text = \" practice   makes   perfect\"\n",
    "Output: \"practice   makes   perfect \"\n",
    "Explanation: There are a total of 7 spaces and 3 words. 7 / (3-1) = 3 spaces plus 1 extra space. We place this extra space at the end of the string.\n",
    "Example 3:\n",
    "\n",
    "Input: text = \"hello   world\"\n",
    "Output: \"hello   world\"\n",
    "Example 4:\n",
    "\n",
    "Input: text = \"  walks  udp package   into  bar a\"\n",
    "Output: \"walks  udp  package  into  bar  a \"\n",
    "Example 5:\n",
    "\n",
    "Input: text = \"a\"\n",
    "Output: \"a\""
   ]
  },
  {
   "cell_type": "code",
   "execution_count": 9,
   "metadata": {},
   "outputs": [
    {
     "output_type": "stream",
     "name": "stdout",
     "text": [
      "7\n3\n"
     ]
    },
    {
     "output_type": "execute_result",
     "data": {
      "text/plain": [
       "2"
      ]
     },
     "metadata": {},
     "execution_count": 9
    }
   ],
   "source": [
    "text = \" practice   makes   perfect\"\n",
    "n = text.count(\" \")\n",
    "l = len(list(text.split()))\n",
    "print(n)\n",
    "print(l)\n",
    "n // l # whole numbers\n",
    "n % l  # remainded, to add at the end of string"
   ]
  }
 ]
}
{
 "metadata": {
  "language_info": {
   "codemirror_mode": {
    "name": "ipython",
    "version": 3
   },
   "file_extension": ".py",
   "mimetype": "text/x-python",
   "name": "python",
   "nbconvert_exporter": "python",
   "pygments_lexer": "ipython3",
   "version": "3.8.5-final"
  },
  "orig_nbformat": 2,
  "kernelspec": {
   "name": "python3",
   "display_name": "Python 3",
   "language": "python"
  }
 },
 "nbformat": 4,
 "nbformat_minor": 2,
 "cells": [
  {
   "cell_type": "code",
   "execution_count": 1,
   "metadata": {},
   "outputs": [
    {
     "output_type": "stream",
     "name": "stdout",
     "text": [
      "1[.]1[.]1[.]1\n"
     ]
    }
   ],
   "source": [
    "import re\n",
    "#1108 defanging an ip address\n",
    "\n",
    "# Given a valid (IPv4) IP address, return a defanged version of that IP address.\n",
    "# A defanged IP address replaces every period \".\" with \"[.]\".\n",
    "\n",
    "# Example 1:\n",
    "# Input: address = \"1.1.1.1\"\n",
    "# Output: \"1[.]1[.]1[.]1\"\n",
    "# Example 2:\n",
    "# Input: address = \"255.100.50.0\"\n",
    "# Output: \"255[.]100[.]50[.]0\"\n",
    "# address = \"1.1.1.1\"\n",
    "class Solution:\n",
    "    def defangAddress(a):\n",
    "        return re.sub('\\.','[.]',a)\n",
    "\n",
    "class Solution:\n",
    "    def defangAddress2(a):\n",
    "        r = \"\"\n",
    "        for i in a:\n",
    "            if i == \".\":\n",
    "                r+= \"[.]\"\n",
    "            else:\n",
    "                r+=i\n",
    "        return r"
   ]
  },
  {
   "cell_type": "code",
   "execution_count": 30,
   "metadata": {},
   "outputs": [
    {
     "output_type": "execute_result",
     "data": {
      "text/plain": [
       "'hello  '"
      ]
     },
     "metadata": {},
     "execution_count": 30
    }
   ],
   "source": [
    "#1592 rearrange spaces between words\n",
    "\n",
    "# You are given a string text of words that are placed among some number of spaces. Each word consists of one or more lowercase English letters and are separated by at least one space. It's guaranteed that text contains at least one word.\n",
    "\n",
    "# Rearrange the spaces so that there is an equal number of spaces between every pair of adjacent words and that number is maximized. If you cannot redistribute all the spaces equally, place the extra spaces at the end, meaning the returned string should be the same length as text.\n",
    "\n",
    "# Return the string after rearranging the spaces.\n",
    "# Example 1:\n",
    "\n",
    "# Input: text = \"  this   is  a sentence \"\n",
    "# Output: \"this   is   a   sentence\"\n",
    "# Explanation: There are a total of 9 spaces and 4 words. We can evenly divide the 9 spaces between the words: 9 / (4-1) = 3 spaces.\n",
    "# Example 2:\n",
    "\n",
    "# Input: text = \" practice   makes   perfect\"\n",
    "# Output: \"practice   makes   perfect \"\n",
    "# Explanation: There are a total of 7 spaces and 3 words. 7 / (3-1) = 3 spaces plus 1 extra space. We place this extra space at the end of the string.\n",
    "# Example 3:\n",
    "\n",
    "# Input: text = \"hello   world\"\n",
    "# Output: \"hello   world\"\n",
    "# Example 4:\n",
    "\n",
    "# Input: text = \"  walks  udp package   into  bar a\"\n",
    "# Output: \"walks  udp  package  into  bar  a \"\n",
    "# Example 5:\n",
    "\n",
    "# Input: text = \"a\"\n",
    "# Output: \"a\"\n",
    "\n",
    "def rearrange_space(text):\n",
    "    add = False\n",
    "    n_spaces = text.count(\" \")\n",
    "    if n_spaces == 0: return text\n",
    "    list_of_words = list(text.split())\n",
    "    n_words_in_list = len(list_of_words)\n",
    "    if n_words_in_list == 1: \n",
    "        add = True\n",
    "        n_words_in_list += 1\n",
    "    even_spaces = n_spaces // (n_words_in_list-1)\n",
    "    remainder_spaces = n_spaces % (n_words_in_list-1)\n",
    "    if add:\n",
    "        remainder_spaces = even_spaces\n",
    "        even_spaces = 0\n",
    "        n_words_in_list -= 1\n",
    "        add = False\n",
    "    answer = \"\"\n",
    "    for word in range(n_words_in_list):\n",
    "        if word == n_words_in_list-1:\n",
    "            answer += list_of_words[word]\n",
    "        else:\n",
    "            answer += list_of_words[word] + (even_spaces* \" \")\n",
    "    answer += (remainder_spaces * \" \")\n",
    "    return answer\n",
    "\n",
    "text = \"  hello\"\n",
    "rearrange_space(text)"
   ]
  },
  {
   "cell_type": "code",
   "execution_count": 22,
   "metadata": {},
   "outputs": [
    {
     "output_type": "stream",
     "name": "stdout",
     "text": [
      "0\n"
     ]
    }
   ],
   "source": [
    "# 1512 number of good pairs\n",
    "# Given an array of integers nums.\n",
    "# A pair (i,j) is called good if nums[i] == nums[j] and i < j.\n",
    "# Return the number of good pairs.\n",
    "\n",
    "# Example 1:\n",
    "# Input: nums = [1,2,3,1,1,3]\n",
    "# Output: 4\n",
    "# Explanation: There are 4 good pairs (0,3), (0,4), (3,4), (2,5) 0-indexed.\n",
    "\n",
    "# Example 2:\n",
    "# Input: nums = [1,1,1,1]\n",
    "# Output: 6\n",
    "# Explanation: Each pair in the array are good.\n",
    "\n",
    "# Example 3:\n",
    "# Input: nums = [1,2,3]\n",
    "# Output: 0\n",
    "\n",
    "def num_of_pairs(arr):\n",
    "    dict = {}\n",
    "    for i in range(len(arr)):\n",
    "        if arr[i] not in dict: dict[arr[i]] = []\n",
    "        dict[arr[i]].append(i)\n",
    "    for key in list(dict.keys()):\n",
    "        if len(dict[key]) <= 1: del dict[key]\n",
    "    if dict == {}: return 0\n",
    "    screened = list(dict.values())\n",
    "    answer = 0\n",
    "    for lst in screened:\n",
    "        for x in lst:\n",
    "            for y in lst[1:]:\n",
    "                if x < y:\n",
    "                    answer +=1\n",
    "    return answer\n",
    "\n",
    "inp = [1,2,3,1,1,3]\n",
    "# inp = [1,1,1,1]\n",
    "# inp = [1,2,3]\n",
    "num_of_pairs(inp)"
   ]
  },
  {
   "cell_type": "code",
   "execution_count": 70,
   "metadata": {},
   "outputs": [
    {
     "output_type": "execute_result",
     "data": {
      "text/plain": [
       "'alGalooG'"
      ]
     },
     "metadata": {},
     "execution_count": 70
    }
   ],
   "source": [
    "#1678 goal parser interpretation\n",
    "# You own a Goal Parser that can interpret a string command. The command consists of an alphabet of \"G\", \"()\" and/or \"(al)\" in some order. The Goal Parser will interpret \"G\" as the string \"G\", \"()\" as the string \"o\", and \"(al)\" as the string \"al\". The interpreted strings are then concatenated in the original order.\n",
    "# Given the string command, return the Goal Parser's interpretation of command.\n",
    "\n",
    "# Example 1:\n",
    "# Input: command = \"G()(al)\"\n",
    "# Output: \"Goal\"\n",
    "# Explanation: The Goal Parser interprets the command as follows:\n",
    "# The final concatenated result is \"Goal\".\n",
    "\n",
    "# Example 2:\n",
    "# Input: command = \"G()()()()(al)\"\n",
    "# Output: \"Gooooal\"\n",
    "\n",
    "# Example 3:\n",
    "# Input: command = \"(al)G(al)()()G\"\n",
    "# Output: \"alGalooG\"\n",
    "\n",
    "# 1 <= command.length <= 100\n",
    "\n",
    "def goal_parser(command):\n",
    "    if 1 <= len(command) <= 100:    \n",
    "        answer = \"\"\n",
    "        for i in range(len(command)):\n",
    "            if command[i] == \"(\" and command[i+1] == \")\":answer += \"o\"\n",
    "            elif command[i] == \"(\" and command[i+1] == \"a\":answer += 'al'\n",
    "            elif command[i] == \"G\":answer += \"G\"\n",
    "        return answer\n",
    "    return \"\"\n",
    "\n",
    "# command = \"G()()()()(al)\"\n",
    "# command = \"G()(al)\"\n",
    "command = \"(al)G(al)()()G\"\n",
    "\n",
    "goal_parser(command)"
   ]
  },
  {
   "cell_type": "code",
   "execution_count": 81,
   "metadata": {},
   "outputs": [
    {
     "output_type": "stream",
     "name": "stdout",
     "text": [
      "3\n"
     ]
    }
   ],
   "source": [
    "# 771 jewels and stones\n",
    "# You're given strings jewels representing the types of stones that are jewels, and stones representing the stones you have. Each character in stones is a type of stone you have. You want to know how many of the stones you have are also jewels.\n",
    "\n",
    "# Letters are case sensitive, so \"a\" is considered a different type of stone from \"A\". \n",
    "\n",
    "# Example 1:\n",
    "# Input: jewels = \"aA\", stones = \"aAAbbbb\"\n",
    "# Output: 3\n",
    "\n",
    "# Example 2:\n",
    "# Input: jewels = \"z\", stones = \"ZZ\"\n",
    "# Output: 0\n",
    "\n",
    "# Constraints:\n",
    "# 1 <= jewels.length, stones.length <= 50\n",
    "def count_jewels(jewels,stones):\n",
    "    if len(jewels) >= 1 and 50 >= len(jewels):\n",
    "        track = {}\n",
    "        for jewl in jewels:\n",
    "            if jewl not in track:\n",
    "                track[jewl] = 0\n",
    "        for stone in stones:\n",
    "            if stone in track:\n",
    "                track[stone] += 1\n",
    "        return sum(track.values())\n",
    "\n",
    "def count_jewels2(jewels,stones):\n",
    "    count = 0\n",
    "    for stone in stones: \n",
    "        if stone in jewels:count+= 1\n",
    "    return count\n",
    "    \n",
    "def count_jewels3(jewels,stones):\n",
    "    t = 0\n",
    "    for i in range(len(jewels)):\n",
    "        t += stones.count(jewels[i])\n",
    "    print(t)\n",
    "\n",
    "jewels = \"aA\"\n",
    "stones = \"aAAbbbb\"\n",
    "count_jewels3(jewels,stones)\n",
    "\n",
    "    "
   ]
  },
  {
   "cell_type": "code",
   "execution_count": null,
   "metadata": {},
   "outputs": [],
   "source": [
    "# 1603 design parking system \n",
    "Design a parking system for a parking lot. The parking lot has three kinds of parking spaces: big, medium, and small, with a fixed number of slots for each size.\n",
    "\n",
    "Implement the ParkingSystem class:\n",
    "\n",
    "ParkingSystem(int big, int medium, int small) Initializes object of the ParkingSystem class. The number of slots for each parking space are given as part of the constructor.\n",
    "bool addCar(int carType) Checks whether there is a parking space of carType for the car that wants to get into the parking lot. carType can be of three kinds: big, medium, or small, which are represented by 1, 2, and 3 respectively. A car can only park in a parking space of its carType. If there is no space available, return false, else park the car in that size space and return true.\n",
    " \n",
    "\n",
    "Example 1:\n",
    "\n",
    "Input\n",
    "[\"ParkingSystem\", \"addCar\", \"addCar\", \"addCar\", \"addCar\"]\n",
    "[[1, 1, 0], [1], [2], [3], [1]]\n",
    "Output\n",
    "[null, true, true, false, false]\n",
    "\n",
    "Explanation\n",
    "ParkingSystem parkingSystem = new ParkingSystem(1, 1, 0);\n",
    "parkingSystem.addCar(1); // return true because there is 1 available slot for a big car\n",
    "parkingSystem.addCar(2); // return true because there is 1 available slot for a medium car\n",
    "parkingSystem.addCar(3); // return false because there is no available slot for a small car\n",
    "parkingSystem.addCar(1); // return false because there is no available slot for a big car. It is already occupied."
   ]
  }
 ]
}
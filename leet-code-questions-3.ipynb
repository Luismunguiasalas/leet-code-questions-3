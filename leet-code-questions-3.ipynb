{
 "metadata": {
  "language_info": {
   "codemirror_mode": {
    "name": "ipython",
    "version": 3
   },
   "file_extension": ".py",
   "mimetype": "text/x-python",
   "name": "python",
   "nbconvert_exporter": "python",
   "pygments_lexer": "ipython3",
   "version": "3.8.5-final"
  },
  "orig_nbformat": 2,
  "kernelspec": {
   "name": "python3",
   "display_name": "Python 3",
   "language": "python"
  }
 },
 "nbformat": 4,
 "nbformat_minor": 2,
 "cells": [
  {
   "cell_type": "code",
   "execution_count": 1,
   "metadata": {},
   "outputs": [
    {
     "output_type": "stream",
     "name": "stdout",
     "text": [
      "1[.]1[.]1[.]1\n"
     ]
    }
   ],
   "source": [
    "import re\n",
    "#1108 defanging an ip address\n",
    "\n",
    "# Given a valid (IPv4) IP address, return a defanged version of that IP address.\n",
    "# A defanged IP address replaces every period \".\" with \"[.]\".\n",
    "\n",
    "# Example 1:\n",
    "# Input: address = \"1.1.1.1\"\n",
    "# Output: \"1[.]1[.]1[.]1\"\n",
    "# Example 2:\n",
    "# Input: address = \"255.100.50.0\"\n",
    "# Output: \"255[.]100[.]50[.]0\"\n",
    "# address = \"1.1.1.1\"\n",
    "class Solution:\n",
    "    def defangAddress(a):\n",
    "        return re.sub('\\.','[.]',a)\n",
    "\n",
    "\n",
    "class Solution:\n",
    "    def defangAddress2(a):\n",
    "        r = \"\"\n",
    "        for i in a:\n",
    "            if i == \".\":\n",
    "                r+= \"[.]\"\n",
    "            else:\n",
    "                r+=i\n",
    "        return r"
   ]
  },
  {
   "cell_type": "code",
   "execution_count": 30,
   "metadata": {},
   "outputs": [
    {
     "output_type": "execute_result",
     "data": {
      "text/plain": [
       "'hello  '"
      ]
     },
     "metadata": {},
     "execution_count": 30
    }
   ],
   "source": [
    "#1592 rearrange spaces between words\n",
    "\n",
    "# You are given a string text of words that are placed among some number of spaces. Each word consists of one or more lowercase English letters and are separated by at least one space. It's guaranteed that text contains at least one word.\n",
    "\n",
    "# Rearrange the spaces so that there is an equal number of spaces between every pair of adjacent words and that number is maximized. If you cannot redistribute all the spaces equally, place the extra spaces at the end, meaning the returned string should be the same length as text.\n",
    "\n",
    "# Return the string after rearranging the spaces.\n",
    "# Example 1:\n",
    "\n",
    "# Input: text = \"  this   is  a sentence \"\n",
    "# Output: \"this   is   a   sentence\"\n",
    "# Explanation: There are a total of 9 spaces and 4 words. We can evenly divide the 9 spaces between the words: 9 / (4-1) = 3 spaces.\n",
    "# Example 2:\n",
    "\n",
    "# Input: text = \" practice   makes   perfect\"\n",
    "# Output: \"practice   makes   perfect \"\n",
    "# Explanation: There are a total of 7 spaces and 3 words. 7 / (3-1) = 3 spaces plus 1 extra space. We place this extra space at the end of the string.\n",
    "# Example 3:\n",
    "\n",
    "# Input: text = \"hello   world\"\n",
    "# Output: \"hello   world\"\n",
    "# Example 4:\n",
    "\n",
    "# Input: text = \"  walks  udp package   into  bar a\"\n",
    "# Output: \"walks  udp  package  into  bar  a \"\n",
    "# Example 5:\n",
    "\n",
    "# Input: text = \"a\"\n",
    "# Output: \"a\"\n",
    "\n",
    "def rearrange_space(text):\n",
    "    add = False\n",
    "    n_spaces = text.count(\" \")\n",
    "    if n_spaces == 0: return text\n",
    "    list_of_words = list(text.split())\n",
    "    n_words_in_list = len(list_of_words)\n",
    "    if n_words_in_list == 1: \n",
    "        add = True\n",
    "        n_words_in_list += 1\n",
    "    even_spaces = n_spaces // (n_words_in_list-1)\n",
    "    remainder_spaces = n_spaces % (n_words_in_list-1)\n",
    "    if add:\n",
    "        remainder_spaces = even_spaces\n",
    "        even_spaces = 0\n",
    "        n_words_in_list -= 1\n",
    "        add = False\n",
    "    answer = \"\"\n",
    "    for word in range(n_words_in_list):\n",
    "        if word == n_words_in_list-1:\n",
    "            answer += list_of_words[word]\n",
    "        else:\n",
    "            answer += list_of_words[word] + (even_spaces* \" \")\n",
    "    answer += (remainder_spaces * \" \")\n",
    "    return answer\n",
    "\n",
    "\n",
    "\n",
    "text = \"  hello\"\n",
    "rearrange_space(text)\n"
   ]
  },
  {
   "cell_type": "code",
   "execution_count": 22,
   "metadata": {},
   "outputs": [
    {
     "output_type": "stream",
     "name": "stdout",
     "text": [
      "0\n"
     ]
    }
   ],
   "source": [
    "# 1512 number of good pairs\n",
    "# Given an array of integers nums.\n",
    "# A pair (i,j) is called good if nums[i] == nums[j] and i < j.\n",
    "# Return the number of good pairs.\n",
    "\n",
    "# Example 1:\n",
    "# Input: nums = [1,2,3,1,1,3]\n",
    "# Output: 4\n",
    "# Explanation: There are 4 good pairs (0,3), (0,4), (3,4), (2,5) 0-indexed.\n",
    "\n",
    "# Example 2:\n",
    "# Input: nums = [1,1,1,1]\n",
    "# Output: 6\n",
    "# Explanation: Each pair in the array are good.\n",
    "\n",
    "# Example 3:\n",
    "# Input: nums = [1,2,3]\n",
    "# Output: 0\n",
    "\n",
    "def num_of_pairs(arr):\n",
    "    dict = {}\n",
    "    for i in range(len(arr)):\n",
    "        if arr[i] not in dict: dict[arr[i]] = []\n",
    "        dict[arr[i]].append(i)\n",
    "    for key in list(dict.keys()):\n",
    "        if len(dict[key]) <= 1: del dict[key]\n",
    "    if dict == {}: return 0\n",
    "    screened = list(dict.values())\n",
    "    answer = 0\n",
    "    for lst in screened:\n",
    "        for x in lst:\n",
    "            for y in lst[1:]:\n",
    "                if x < y:\n",
    "                    answer +=1\n",
    "    return answer\n",
    "\n",
    "inp = [1,2,3,1,1,3]\n",
    "# inp = [1,1,1,1]\n",
    "# inp = [1,2,3]\n",
    "num_of_pairs(inp)"
   ]
  }
 ]
}